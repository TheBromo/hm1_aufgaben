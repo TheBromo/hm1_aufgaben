{
 "cells": [
  {
   "cell_type": "markdown",
   "metadata": {},
   "source": [
    "# Aufg 1\n",
    "## a)"
   ]
  },
  {
   "cell_type": "code",
   "execution_count": 2,
   "metadata": {},
   "outputs": [
    {
     "name": "stdout",
     "output_type": "stream",
     "text": [
      "A, B, C\n",
      "[4. 7. 3.]\n"
     ]
    }
   ],
   "source": [
    "import numpy as np\n",
    "\n",
    "passengers = np.array([2150,470,150])\n",
    "planeSeats = np.array([[200,150,100],[50,30,20],[20,10,0]])\n",
    "\n",
    "\n",
    "\n",
    "xstar = np.linalg.solve(planeSeats,passengers)\n",
    "\n",
    "\n",
    "print(\"A, B, C\")\n",
    "print(xstar)\n"
   ]
  },
  {
   "cell_type": "markdown",
   "metadata": {},
   "source": [
    "## b)"
   ]
  },
  {
   "cell_type": "code",
   "execution_count": 3,
   "metadata": {},
   "outputs": [
    {
     "name": "stdout",
     "output_type": "stream",
     "text": [
      "A, B, C\n",
      "[3. 6. 1.]\n"
     ]
    }
   ],
   "source": [
    "passengers = np.array([1600,350,120])\n",
    "\n",
    "xstar = np.linalg.solve(planeSeats,passengers)\n",
    "\n",
    "\n",
    "print(\"A, B, C\")\n",
    "print(xstar)"
   ]
  },
  {
   "cell_type": "markdown",
   "metadata": {},
   "source": [
    "# Aufg 2"
   ]
  },
  {
   "cell_type": "code",
   "execution_count": 19,
   "metadata": {},
   "outputs": [],
   "source": [
    "def S6_Aufg1(A, b):\n",
    "    n = np.size(b)\n",
    "    M = np.zeros((n, n + 1))\n",
    "\n",
    "    M[0:n, 0:n] = np.copy(A)\n",
    "    M[0:n, n] = np.copy(b)\n",
    "\n",
    "\n",
    "    # Vorwärtselimination bring die Matrix in rechtsobere Dreiecksform\n",
    "\n",
    "    # Rückwärtseinsetzen bringt das resultat auf x\n",
    "\n",
    "    for j in range(0, n - 1):\n",
    "        if M[j, j] == 0:\n",
    "            i = j + 1\n",
    "            while M[i, j] == 0:\n",
    "                i = i + 1\n",
    "\n",
    "            temp = np.copy(M[i, j : n + 1])\n",
    "            M[i, j : n + 1] = M[j, j : n + 1]\n",
    "            M[j, j : n + 1] = temp\n",
    "\n",
    "        for i in range(j + 1, n):\n",
    "            c = M[i, j] / M[j, j]\n",
    "            M[i, j] = 0\n",
    "\n",
    "            M[i, j + 1 : n + 1] = M[i, j + 1 : n + 1] - c * M[j, j + 1 : n + 1]\n",
    "            \n",
    "\n",
    "\n",
    "    x = np.zeros(n)\n",
    "    for i in np.arange(n-1,-1,-1):\n",
    "        x[i] = (M[i,n] - np.sum(M[i,i+1:n]*x[i+1:n]))/M[i,i]\n",
    "    \n",
    "    return M, x\n"
   ]
  },
  {
   "cell_type": "markdown",
   "metadata": {},
   "source": [
    "# Aufg 3\n"
   ]
  },
  {
   "cell_type": "code",
   "execution_count": 20,
   "metadata": {},
   "outputs": [
    {
     "name": "stdout",
     "output_type": "stream",
     "text": [
      "[[ 2.    1.    0.    1.  ]\n",
      " [ 0.   -2.   -2.   -1.  ]\n",
      " [ 0.    0.    2.5  -1.25]]\n",
      "[ 0.   1.  -0.5]\n"
     ]
    }
   ],
   "source": [
    "A = np.array([[2,1,0],[4,0,-2],[1,2,4]])\n",
    "b = np.array([1,1,0])\n",
    "\n",
    "M, x = S6_Aufg1(A,b)\n",
    "\n",
    "print(M)\n",
    "\n",
    "print(x)"
   ]
  }
 ],
 "metadata": {
  "kernelspec": {
   "display_name": "base",
   "language": "python",
   "name": "python3"
  },
  "language_info": {
   "codemirror_mode": {
    "name": "ipython",
    "version": 3
   },
   "file_extension": ".py",
   "mimetype": "text/x-python",
   "name": "python",
   "nbconvert_exporter": "python",
   "pygments_lexer": "ipython3",
   "version": "3.11.5"
  }
 },
 "nbformat": 4,
 "nbformat_minor": 2
}
