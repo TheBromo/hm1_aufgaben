{
 "cells": [
  {
   "attachments": {},
   "cell_type": "markdown",
   "metadata": {
    "collapsed": false
   },
   "source": [
    "# Aufgabe 1"
   ]
  },
  {
   "attachments": {},
   "cell_type": "markdown",
   "id": "6071f0df",
   "metadata": {
    "collapsed": false
   },
   "source": [
    "Eine Boeing 737-200 setzt bei der Landung zum Zeitpunkt $t = O \\text{s}$ bei der Koordinate $x_0 = 0 \\text{m}$ mit der Geschwindigkeit $v_0 = 100 \\frac{m}{s}$ auf. Die Masse des Flugzeugs beträgt zum Zeitpunkt der Landung $m = 97'000 \\text{kg}$ und wird im Weiteren als konstant angenommen. Die durch Schubumkehr erzeugte Bremskraft ist gegeben durch\n",
    "$F —5 \\cdot \\dot{x}^2 — 570000$ und daraus folgt als Bewegungsgleichung die DGL 2. Ordnung:\n",
    "\n",
    "$$\n",
    "m \\cdot \\ddot{x} = -5 \\cdot \\dot{x}^2 - 570000\n",
    "$$\n",
    "\n",
    "wobei $x(t)$ die Ortsfunktion des Flugzeuges als Funktion der Zeit $t$ ist, $\\dot{x} = \\frac{dx}{dt} = v(t)$ seine Geschwindigkeit und $\\ddot{x} = \\frac{d^2x}{dt^2} = \\frac{dv}{dt}= a(t)$ die Beschleunigung. Damit kann die DGL 2. Ordnung umgeschrieben werden in eine DGL 1. Ordnung:\n",
    "\n",
    "$$\n",
    "m \\frac{dv}{dt} = -5v^2 - 570000\n",
    "$$"
   ]
  },
  {
   "attachments": {},
   "cell_type": "markdown",
   "id": "a0dd728c",
   "metadata": {},
   "source": [
    "#### a)\n",
    "\n",
    "Gesucht ist die Zeit $t_E$, die das Flugzeug braucht, um zum Stillstand zu kommen. Sie werden in den späteren\n",
    "Übungen Verfahren anwenden, um $v(t)$ und $x(t)$ direkt numerisch berechnen zu können. Bis es soweit ist, benutzen\n",
    "Sie hier das analytische Verfahren der Separation der Variablen, um ein Integral für die Zeit zu erhalten:\n",
    "\n",
    "$$\n",
    "t_E = \\int_{0}^{t_E} \\ dt = ?\n",
    "$$\n",
    "\n",
    "Berechnen Sie das erhaltene Integral numerisch mit einem Skript `Name_S10_Aufg2.py` mit der Romberg-Extrapolation aus Serie 9, Aufgabe 3)."
   ]
  },
  {
   "cell_type": "code",
   "execution_count": 14,
   "id": "bfa8dc57",
   "metadata": {},
   "outputs": [],
   "source": [
    "import numpy as np\n",
    "\n",
    "def WIN07_S9_Aufg3(f, a, b, m):\n",
    "    \"\"\"\n",
    "    a: Untere Grenze Intervall (float / int)\n",
    "    b: Obere Grenze Intervall (float / int)\n",
    "    f: Funktion für welche das Integral abgeschätzt werden soll (lambda oder Funktion)\n",
    "    m: Anzahl Stützstellen (int)\n",
    "    \"\"\"\n",
    "    first_row = np.array([])\n",
    "\n",
    "    for j in range(m):\n",
    "        h = (b - a) / 2**j # Intervallbreite\n",
    "        x_values = np.arange(a, b+h, h)\n",
    "        sum_trapez = np.array([(f(x)) for _, x in enumerate(x_values[1: -1])]).sum()\n",
    "        frac_trapez = (f(a) + f(b))/2\n",
    "        integral_trapez = (h * (frac_trapez + sum_trapez))\n",
    "        first_row = np.append(first_row, integral_trapez)\n",
    "\n",
    "    T = np.zeros((m,m))\n",
    "    T[: , 0] = first_row\n",
    "\n",
    "    last_row = np.copy(first_row)\n",
    "    for row in range(1, T.shape[0]):\n",
    "        next_row = np.array([(4**row * last_row[idx] - last_row[idx-1])/(4**row-1) for idx, _ in enumerate(last_row) if idx > 0])\n",
    "        last_row = np.copy(next_row)\n",
    "        for _ in range(T.shape[0] - len(next_row)):\n",
    "            next_row = np.append(next_row, 0)\n",
    "        T[:, row] = next_row\n",
    "\n",
    "    return T[0][-1]"
   ]
  },
  {
   "attachments": {},
   "cell_type": "markdown",
   "id": "0542d4b1",
   "metadata": {},
   "source": [
    "Die Ausgangslage für die Berechnung bildet die folgende Gleichung\n",
    "\n",
    "$$\n",
    "m \\cdot \\ddot{x} = -5 \\cdot \\dot{x}^2 - 570'000\n",
    "$$\n",
    "\n",
    "Nun kann die zweite Ableitung des Ortes $\\ddot{x}$ als einfache Ableitung der Geschwindigkeit aufgefasst werden, ausserdem wird die einfache Ableitung des Ortes $\\dot{x}$ als Geschwindigkeit $v$ geschrieben:\n",
    "\n",
    "$$\n",
    "m \\cdot \\dot{v} = -5 \\cdot v^2 - 570'000\n",
    "$$\n",
    "\n",
    "Wir schreiben die Formel in einer verständlicheren Notation:\n",
    "\n",
    "$$\n",
    "m \\cdot \\frac{dv}{dt} = -5 \\cdot v^2 - 570'000\n",
    "$$\n",
    "\n",
    "Nun müssen alle Terme, die die Geschwindigkeit beinhalten auf eine Seite gebracht werden. Dies machen wir in zwei Schritten:\n",
    "\n",
    "$$\n",
    "m \\cdot dv = (-5 \\cdot v^2 - 570'000) \\ dt\n",
    "$$\n",
    "\n",
    "$$\n",
    "\\rightarrow \\frac{m \\cdot dv}{(-5 \\cdot v^2 - 570'000)} = dt\n",
    "$$\n",
    "\n",
    "Nun kann man ein bestimmtes Integral mit den Grenzwerten $v_0$ und $v_{E} = 0 \\frac{m}{s}$ bilden. Dies entspricht dann dem Integral der Zeit von $t_0$ bis $t_E$ :\n",
    "\n",
    "$$\n",
    "\\int_{100}^{0} \\frac{m}{(-5 \\cdot v^2 - 570'000)} \\ dv = \\int_{0}^{t_E}\\ dt \n",
    "$$\n",
    "\n",
    "Da die Masse eine Konstante ist, kann sie vor das Integral genommen werden:\n",
    "\n",
    "$$\n",
    "m \\cdot \\int_{100}^{0} \\frac{1}{(-5 \\cdot v^2 - 570'000)} \\ dv = \\int_{0}^{t_E}\\ dt \n",
    "$$"
   ]
  },
  {
   "cell_type": "code",
   "execution_count": 19,
   "id": "29e31c6a",
   "metadata": {},
   "outputs": [
    {
     "data": {
      "text/markdown": [
       "##### Approximierte Zeit bis zum Stillstand: $16.544607316744216$"
      ],
      "text/plain": [
       "<IPython.core.display.Markdown object>"
      ]
     },
     "metadata": {},
     "output_type": "display_data"
    }
   ],
   "source": [
    "from IPython.display import Markdown as md\n",
    "m = 97000 # Masse des Flugzeuges\n",
    "f_v = lambda v: 1 / (-5 * v**2 - 570000) # Funktion, welche abgeleitet werden soll\n",
    "v0 = 100 #Anfangswert bestimmtes Integral, entspricht b in Romberg-Extrapolation\n",
    "v_end = 0 #Endwert bestimmtes Integral, entspricht a in Romberg-Extrapolation\n",
    "\n",
    "#Gemäss obiger Erklärung muss die Masse mit dem berechneten Integral multipliziert werden\n",
    "approx_t = m * WIN07_S9_Aufg3(f_v, v0, v_end, 10)\n",
    "\n",
    "display(md(f\"##### Approximierte Zeit bis zum Stillstand: ${approx_t}$\"))"
   ]
  },
  {
   "attachments": {},
   "cell_type": "markdown",
   "id": "ba5a3c95",
   "metadata": {},
   "source": [
    "Gemäss der obigen Berechnung beträgt die approximierte Zeit, die das Flugzeug bis zum Stillstand benötigt $16.5446\\dots \\text{m}$"
   ]
  },
  {
   "attachments": {},
   "cell_type": "markdown",
   "id": "1f80b0ee",
   "metadata": {},
   "source": [
    "#### b) \n",
    "\n",
    "Benutzen Sie den Zusammenhang $\\frac{dx}{dt} = v$ resp. $dx = dt \\cdot v$ um aus a) analytisch auch das Integral für den Bremsweg $x_E$ zu erhalten\n",
    "\n",
    "$$\n",
    "x_E = \\int_{0}^{x_E} \\ dx = ?\n",
    "$$\n",
    "\n",
    "und berechnen Sie auch dieses Integral mit der Romberg-Extrapolation"
   ]
  },
  {
   "attachments": {},
   "cell_type": "markdown",
   "id": "2b98461d",
   "metadata": {},
   "source": [
    "Wir benutzen den wie oben vorgegebenen Ansatz $dx = dt \\cdot v$ und definieren eine neue Lambda-Funktion. Die Grenzwerte des Integrals können wir gleich belassen. Dies ergibt also: \n",
    "\n",
    "$$\n",
    "x_E = \\int_{0}^{x_E} \\ dx = m \\cdot \\int_{100}^{0} \\frac{1}{(-5 \\cdot v^2 - 570000)} \\cdot v \\ dv\n",
    "$$"
   ]
  },
  {
   "cell_type": "code",
   "execution_count": 16,
   "id": "266b0bae",
   "metadata": {},
   "outputs": [
    {
     "name": "stdout",
     "output_type": "stream",
     "text": [
      "Die approximierte zurückgelegte Strecke beträgt 815.6062369422517 m\n"
     ]
    }
   ],
   "source": [
    "f_h = lambda v: f_v(v) * v\n",
    "approx_xE = m * WIN07_S9_Aufg3(f_h, v0, v_end, 10)\n",
    "print(f\"Die approximierte zurückgelegte Strecke beträgt {approx_xE} m\")"
   ]
  },
  {
   "attachments": {},
   "cell_type": "markdown",
   "id": "d8a6e4fc",
   "metadata": {},
   "source": [
    "Die approximierte Strecke, die das Flugzeug bis zum Stillstand zurücklegt, beträgt gemäss obiger Berechnung ca. $815.60623\\dots \\text{m}$ "
   ]
  },
  {
   "cell_type": "markdown",
   "id": "32a43851",
   "metadata": {},
   "source": []
  }
 ],
 "metadata": {
  "kernelspec": {
   "display_name": "Python 3",
   "language": "python",
   "name": "python3"
  },
  "language_info": {
   "codemirror_mode": {
    "name": "ipython",
    "version": 3
   },
   "file_extension": ".py",
   "mimetype": "text/x-python",
   "name": "python",
   "nbconvert_exporter": "python",
   "pygments_lexer": "ipython3",
   "version": "3.10.11"
  },
  "vscode": {
   "interpreter": {
    "hash": "b6b534080fe9efe4e67110e64d10135b978bf6a50c94ee8146cd8062c6716f02"
   }
  }
 },
 "nbformat": 4,
 "nbformat_minor": 5
}
