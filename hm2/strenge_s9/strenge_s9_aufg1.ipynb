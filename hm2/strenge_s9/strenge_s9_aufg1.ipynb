{
 "cells": [
  {
   "cell_type": "code",
   "execution_count": null,
   "id": "initial_id",
   "metadata": {
    "collapsed": true,
    "ExecuteTime": {
     "end_time": "2024-04-29T08:47:36.800921Z",
     "start_time": "2024-04-29T08:47:36.797887Z"
    }
   },
   "outputs": [],
   "source": []
  },
  {
   "cell_type": "code",
   "outputs": [
    {
     "name": "stdout",
     "output_type": "stream",
     "text": [
      "Benötigte Ableitung Pommes/Trapez: -2/x**2\n",
      "Benötigte Ableitung Simpson: -12/x**4\n",
      "Maximum Pommes/Trapez: 2.0\n",
      "Maximum Simpson: 12.0\n"
     ]
    }
   ],
   "source": [
    "import sympy as sp\n",
    "import numpy as np\n",
    "x = sp.Symbol(\"x\")\n",
    "\n",
    "a,b = 1,2\n",
    "\n",
    "#Calculate second derivative\n",
    "\n",
    "f = sp.log(x**2)\n",
    "\n",
    "der_pommes_trapez = sp.diff(f, x, 2)\n",
    "der_simpson = sp.diff(f,x,4)\n",
    "print(f\"Benötigte Ableitung Pommes/Trapez: {der_pommes_trapez}\")\n",
    "print(f\"Benötigte Ableitung Simpson: {der_simpson}\")\n",
    "der_pommes_trapez = sp.lambdify(x, der_pommes_trapez, \"numpy\")\n",
    "der_simpson = sp.lambdify(x, der_simpson, \"numpy\")\n",
    "max_pommes_trapez = np.array([np.abs(der_pommes_trapez(x)) for x in np.linspace(a,b, 10000)]).max()\n",
    "max_simpson =  np.array([np.abs(der_simpson(x)) for x in np.linspace(a,b, 10000)]).max()\n",
    "\n",
    "\n",
    "print(f\"Maximum Pommes/Trapez: {max_pommes_trapez}\")\n",
    "print(f\"Maximum Simpson: {max_simpson}\")"
   ],
   "metadata": {
    "collapsed": false,
    "ExecuteTime": {
     "end_time": "2024-04-29T08:47:37.634307Z",
     "start_time": "2024-04-29T08:47:36.801928Z"
    }
   },
   "id": "b656f4c73d441469",
   "execution_count": 1
  },
  {
   "cell_type": "code",
   "outputs": [
    {
     "name": "stdout",
     "output_type": "stream",
     "text": [
      "Trapezregel: h = 0.007745966692414835\n",
      "Trapezregel: n = 130.0\n"
     ]
    }
   ],
   "source": [
    "h_trapez = np.sqrt(np.abs((12 * 10**(-5))/((b-a)* 2)))\n",
    "print(f\"Trapezregel: h = {h_trapez}\")\n",
    "print(f\"Trapezregel: n = {np.ceil((b-a)/h_trapez)}\")"
   ],
   "metadata": {
    "collapsed": false,
    "ExecuteTime": {
     "end_time": "2024-04-29T08:47:37.638914Z",
     "start_time": "2024-04-29T08:47:37.635314Z"
    }
   },
   "id": "9cbe0504df94fb91",
   "execution_count": 2
  },
  {
   "cell_type": "code",
   "outputs": [
    {
     "name": "stdout",
     "output_type": "stream",
     "text": [
      "Simpsonregel: h = 0.22133638394006433\n",
      "Simpsonregel: n = 5.0\n"
     ]
    }
   ],
   "source": [
    "\n",
    " \n",
    "h_simpson = (np.abs((2880 * 10**(-5))/((b-a)* 12)))** (1/4)\n",
    "print(f\"Simpsonregel: h = {h_simpson}\")\n",
    "print(f\"Simpsonregel: n = {np.ceil((b-a)/h_simpson)}\")"
   ],
   "metadata": {
    "collapsed": false,
    "ExecuteTime": {
     "end_time": "2024-04-29T08:47:37.643547Z",
     "start_time": "2024-04-29T08:47:37.638914Z"
    }
   },
   "id": "69a78325c5e9889b",
   "execution_count": 3
  }
 ],
 "metadata": {
  "kernelspec": {
   "display_name": "Python 3",
   "language": "python",
   "name": "python3"
  },
  "language_info": {
   "codemirror_mode": {
    "name": "ipython",
    "version": 2
   },
   "file_extension": ".py",
   "mimetype": "text/x-python",
   "name": "python",
   "nbconvert_exporter": "python",
   "pygments_lexer": "ipython2",
   "version": "2.7.6"
  }
 },
 "nbformat": 4,
 "nbformat_minor": 5
}
