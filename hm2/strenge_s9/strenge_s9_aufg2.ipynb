{
 "cells": [
  {
   "cell_type": "markdown",
   "source": [],
   "metadata": {
    "collapsed": false
   },
   "id": "fb784348250a1aab"
  },
  {
   "cell_type": "code",
   "outputs": [
    {
     "name": "stdout",
     "output_type": "stream",
     "text": [
      "[[ 0.15286148 -1.58521254  1.43892088  0.5284822   0.5641876 ]\n",
      " [-1.15069403  1.24991254  0.54270781  0.56404813  0.        ]\n",
      " [ 0.6497609   0.5869081   0.56371468  0.          0.        ]\n",
      " [ 0.6026213   0.56516427  0.          0.          0.        ]\n",
      " [ 0.57452853  0.          0.          0.          0.        ]]\n"
     ]
    }
   ],
   "source": [
    "import numpy as np\n",
    "func = lambda x: np.cos(x**2)\n",
    "a, b = 0, np.pi\n",
    "\n",
    "first_row = np.array([])\n",
    "\n",
    "for j in range(5):\n",
    "    h = (b - a) / 2**j # Intervallbreite\n",
    "    x_values = np.arange(a, b+h, h)\n",
    "    sum_trapez = np.array([(func(x)) for _, x in enumerate(x_values[1: -1])]).sum()\n",
    "    frac_trapez = (func(a) + func(b))/2\n",
    "    integral_trapez = (h * (frac_trapez + sum_trapez))\n",
    "    first_row = np.append(first_row, integral_trapez)\n",
    "\n",
    "T = np.zeros((5,5))\n",
    "T[: , 0] = first_row\n",
    "\n",
    "last_row = np.copy(first_row)\n",
    "for row in range(1, T.shape[0]):\n",
    "    next_row = np.array([(4**row * last_row[idx] - last_row[idx-1])/(4**row-1) for idx, _ in enumerate(last_row) if idx > 0])\n",
    "    last_row = np.copy(next_row)\n",
    "    for _ in range(T.shape[0] - len(next_row)):\n",
    "        next_row = np.append(next_row, 0)\n",
    "    T[:, row] = next_row\n",
    "\n",
    "print(T)"
   ],
   "metadata": {
    "collapsed": false,
    "ExecuteTime": {
     "end_time": "2024-04-29T08:51:39.173982Z",
     "start_time": "2024-04-29T08:51:39.098938Z"
    }
   },
   "id": "5a6e9afdd01b0426",
   "execution_count": 1
  }
 ],
 "metadata": {
  "kernelspec": {
   "display_name": "Python 3",
   "language": "python",
   "name": "python3"
  },
  "language_info": {
   "codemirror_mode": {
    "name": "ipython",
    "version": 2
   },
   "file_extension": ".py",
   "mimetype": "text/x-python",
   "name": "python",
   "nbconvert_exporter": "python",
   "pygments_lexer": "ipython2",
   "version": "2.7.6"
  }
 },
 "nbformat": 4,
 "nbformat_minor": 5
}
