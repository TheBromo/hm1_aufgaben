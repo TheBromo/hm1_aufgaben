{
 "cells": [
  {
   "cell_type": "code",
   "execution_count": 1,
   "id": "initial_id",
   "metadata": {
    "collapsed": true,
    "ExecuteTime": {
     "end_time": "2024-04-29T08:53:58.833859Z",
     "start_time": "2024-04-29T08:53:58.831156Z"
    }
   },
   "outputs": [],
   "source": []
  },
  {
   "cell_type": "code",
   "outputs": [
    {
     "name": "stdout",
     "output_type": "stream",
     "text": [
      "Genauster Wert der Romberg-Extrapolation: 0.6931474776448322\n"
     ]
    }
   ],
   "source": [
    "import numpy as np\n",
    "\n",
    "def strenge_s9_aufg3(f, a, b, m):\n",
    "    \"\"\"\n",
    "    a: Untere Grenze Intervall (float / int)\n",
    "    b: Obere Grenze Intervall (float / int)\n",
    "    f: Funktion für welche das Integral abgeschätzt werden soll (lambda oder Funktion)\n",
    "    m: Anzahl Stützstellen (int)\n",
    "    \"\"\"\n",
    "    first_row = np.array([])\n",
    "\n",
    "    for j in range(m):\n",
    "        h = (b - a) / 2**j # Intervallbreite\n",
    "        x_values = np.arange(a, b+h, h)\n",
    "        sum_trapez = np.array([(f(x)) for _, x in enumerate(x_values[1: -1])]).sum()\n",
    "        frac_trapez = (f(a) + f(b))/2\n",
    "        integral_trapez = (h * (frac_trapez + sum_trapez))\n",
    "        first_row = np.append(first_row, integral_trapez)\n",
    "\n",
    "    T = np.zeros((m,m))\n",
    "    T[: , 0] = first_row\n",
    "\n",
    "    last_row = np.copy(first_row)\n",
    "    for row in range(1, T.shape[0]):\n",
    "        next_row = np.array([(4**row * last_row[idx] - last_row[idx-1])/(4**row-1) for idx, _ in enumerate(last_row) if idx > 0])\n",
    "        last_row = np.copy(next_row)\n",
    "        for _ in range(T.shape[0] - len(next_row)):\n",
    "            next_row = np.append(next_row, 0)\n",
    "        T[:, row] = next_row\n",
    "\n",
    "    print(f\"Genauster Wert der Romberg-Extrapolation: {T[0][-1]}\")\n",
    "\n",
    "    return T[0][-1]\n",
    "test = strenge_s9_aufg3(lambda x: 1/x , 2, 4, 4)"
   ],
   "metadata": {
    "collapsed": false,
    "ExecuteTime": {
     "end_time": "2024-04-29T08:53:58.843594Z",
     "start_time": "2024-04-29T08:53:58.834815Z"
    }
   },
   "id": "d24691da1c923c59",
   "execution_count": 2
  }
 ],
 "metadata": {
  "kernelspec": {
   "display_name": "Python 3",
   "language": "python",
   "name": "python3"
  },
  "language_info": {
   "codemirror_mode": {
    "name": "ipython",
    "version": 2
   },
   "file_extension": ".py",
   "mimetype": "text/x-python",
   "name": "python",
   "nbconvert_exporter": "python",
   "pygments_lexer": "ipython2",
   "version": "2.7.6"
  }
 },
 "nbformat": 4,
 "nbformat_minor": 5
}
