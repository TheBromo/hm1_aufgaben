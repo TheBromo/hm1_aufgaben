{
 "cells": [
  {
   "cell_type": "markdown",
   "metadata": {},
   "source": [
    "# Lin Alg Gleichungsyseme\n",
    "\n",
    "berechnung von \n",
    "$$\n",
    "A*x=b\n",
    "$$"
   ]
  },
  {
   "cell_type": "code",
   "execution_count": 2,
   "metadata": {},
   "outputs": [
    {
     "name": "stdout",
     "output_type": "stream",
     "text": [
      "-9.999999999999998\n",
      "[ 0.   1.  -0.5]\n"
     ]
    }
   ],
   "source": [
    "import numpy as np\n",
    "\n",
    "A = np.array([[2, 1, 0], [4, 0, -2], [1, 2, 4]])\n",
    "b = np.array([1, 1, 0])\n",
    "\n",
    "detA = np.linalg.det(A)\n",
    "print(detA)\n",
    "\n",
    "xstar = np.linalg.solve(A,b)\n",
    "\n",
    "print(xstar)"
   ]
  }
 ],
 "metadata": {
  "kernelspec": {
   "display_name": "base",
   "language": "python",
   "name": "python3"
  },
  "language_info": {
   "codemirror_mode": {
    "name": "ipython",
    "version": 3
   },
   "file_extension": ".py",
   "mimetype": "text/x-python",
   "name": "python",
   "nbconvert_exporter": "python",
   "pygments_lexer": "ipython3",
   "version": "3.11.5"
  }
 },
 "nbformat": 4,
 "nbformat_minor": 2
}
